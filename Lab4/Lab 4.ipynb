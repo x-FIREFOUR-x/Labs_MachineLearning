{
 "cells": [
  {
   "cell_type": "markdown",
   "metadata": {},
   "source": [
    "## Лабораторна робота 4 - Навчання без учителя.\n",
    "\n",
    "\n",
    "У цій лабораторній роботі Ви познайомитеся з основними задачами, які розв'язують алгоритми навчання без учителя."
   ]
  },
  {
   "cell_type": "markdown",
   "metadata": {},
   "source": [
    "### Завдання 1\n",
    "\n",
    "Реалізуйте алгоритм кластеризації k-середніх, доповнивши методи, позначені `#TODO` у класі KMeans.\n",
    "\n",
    "Метод `distance` повинен повертати матрицю $D_{m\\times n}$, де $m,n$ - кількість рядків у $p_1,p_2$ відповідно. $D_{i,j}$ - евклідова відстань між $i$-м рядком $p_1$ і $j$-м рядком $p_2$.\n",
    "*Порада*: скористайтеся векторизацією, оскільки реалізація через цикли буде значно повільнішою.\n",
    "\n",
    "Метод `fit` повинен виконувати пошук центроїдів кластерів. Знайдені центроїди мають бути збережені в `self.cluster_centers_`.\n",
    "\n",
    "\n",
    "Метод `predict` виконує кластеризацію, передбачаючи для кожного елемента `x` індекс відповідного йому кластера."
   ]
  },
  {
   "cell_type": "code",
   "execution_count": 1,
   "metadata": {},
   "outputs": [],
   "source": [
    "import numpy as np\n",
    "import matplotlib.pyplot as plt"
   ]
  },
  {
   "cell_type": "code",
   "execution_count": null,
   "metadata": {},
   "outputs": [],
   "source": [
    "class KMeans:\n",
    "\n",
    "    def __init__(self, n_clusters):\n",
    "        self.n_clusters = n_clusters\n",
    "        \n",
    "    @staticmethod\n",
    "    def distance(p1, p2):\n",
    "        # TODO\n",
    "        return\n",
    "        \n",
    "    def fit(self, x):\n",
    "        self.cluster_centers_ = # Initial clusters\n",
    "        \n",
    "        while True:\n",
    "            D = self.distance(x, self.cluster_centers_)\n",
    "            \n",
    "            # TODO\n",
    "            \n",
    "            if np.allclose(new_cluster_centers, self.cluster_centers_):\n",
    "                break\n",
    "                \n",
    "            self.cluster_centers_ = new_cluster_centers\n",
    "            \n",
    "        return self\n",
    "    \n",
    "    def predict(self, x):\n",
    "        D = self.distance(x, self.cluster_centers_)\n",
    "        return D.argmin(axis=1)"
   ]
  },
  {
   "cell_type": "code",
   "execution_count": null,
   "metadata": {},
   "outputs": [],
   "source": [
    "x = np.concatenate([np.random.normal(size=(100, 2)), np.random.normal(size=(100, 2)) + 5])\n",
    "clust = KMeans(2).fit(x).predict(x)\n",
    "\n",
    "plt.figure(figsize=(6, 6))\n",
    "plt.scatter(*x.T, c=clust)\n",
    "plt.show()"
   ]
  },
  {
   "cell_type": "markdown",
   "metadata": {},
   "source": [
    "Виберіть будь-яке зображення (тільки не дуже велике, 64х64 підійде ідеально). За допомогою алгоритму k-середніх підберіть оптимальну кількість кластерів для кластеризації пікселів зображення, максимізуючи silhouette-score."
   ]
  },
  {
   "cell_type": "code",
   "execution_count": null,
   "metadata": {},
   "outputs": [],
   "source": [
    "# pip install scikit-image\n",
    "from skimage.io import imread\n",
    "from skimage.transform import resize\n",
    "from sklearn.metrics import silhouette_score\n",
    "\n",
    "image = imread('/path/to/image')\n",
    "\n",
    "# Resize if necessary\n",
    "image = resize(image, (64, 64), preserve_range=True)\n",
    "\n",
    "pixels = image.reshape(-1, 3)"
   ]
  },
  {
   "cell_type": "code",
   "execution_count": null,
   "metadata": {},
   "outputs": [],
   "source": [
    "ks = list(range(2, 17))\n",
    "scores = []\n",
    "for k in ks:\n",
    "    kmeans = KMeans(n_clusters=k).fit(pixels)\n",
    "    scores.append(silhouette_score(pixels, kmeans.predict(pixels), metric='euclidean'))\n",
    "    \n",
    "plt.plot(\n",
    "    ks,\n",
    "    scores\n",
    ")"
   ]
  },
  {
   "cell_type": "markdown",
   "metadata": {},
   "source": [
    "Візуалізуйте кластеризацію з найкращим $k$."
   ]
  },
  {
   "cell_type": "code",
   "execution_count": null,
   "metadata": {},
   "outputs": [],
   "source": [
    "kmeans = KMeans(n_clusters=...).fit(pixels)\n",
    "pixels_clustered = kmeans.cluster_centers_[kmeans.predict(pixels)]\n",
    "\n",
    "\n",
    "fig, ax = plt.subplots(ncols=2, figsize=(10, 6))\n",
    "ax[0].imshow(image.astype(np.uint8))\n",
    "ax[1].imshow(pixels_clustered.reshape(image.shape).astype(np.uint8))"
   ]
  },
  {
   "cell_type": "markdown",
   "metadata": {},
   "source": [
    "За Вашим номером у списку групи, завантажте набір даних:"
   ]
  },
  {
   "cell_type": "code",
   "execution_count": null,
   "metadata": {},
   "outputs": [],
   "source": [
    "STUDENT_ID = ...\n",
    "\n",
    "data = np.load(f'data/{STUDENT_ID:02d}.npy')"
   ]
  },
  {
   "cell_type": "markdown",
   "metadata": {},
   "source": [
    "Використовуючи метод k-середніх, зробіть висновок про кількість кластерів у наборі даних. Обґрунтуйте Ваш висновок."
   ]
  },
  {
   "cell_type": "markdown",
   "metadata": {},
   "source": [
    "### Завдання 2\n",
    "\n",
    "Реалізуйте алгоритм аналізу головних компонент, доповнивши методи, позначені `#TODO` у класі PCA, і застосуйте його на датасеті MNIST.\n",
    "\n",
    "Метод `fit` повинен виконувати пошук `self.n_component` головних компонент:\n",
    "\n",
    "$$\n",
    "X=[x_{i,j}]_{m\\times n}\n",
    "$$\n",
    "\n",
    "$$\n",
    "X_{c}=\\begin{bmatrix}x_{i,j}-\\frac{1}{m}\\sum_{k=1}^mx_{k,j}\\end{bmatrix}\n",
    "$$\n",
    "\n",
    "$$\n",
    "C=\\frac{X_c^TX_c}{m-1}\n",
    "$$\n",
    "\n",
    "Головними компонентами будуть власні вектори матриці $C$, які відповідають `self.n_component` найбільшим власним числам. (Скористайтеся [np.linalg.eig](https://numpy.org/doc/stable/reference/generated/numpy.linalg.eig.html)).\n",
    "\n",
    "Знайдені компоненти мають бути збережені в `self.components_`.\n",
    "\n",
    "Метод `transform` виконує проекцію даних:\n",
    "$$\n",
    "\\begin{bmatrix}y_{i,j}-\\frac{1}{m}\\sum_{k=1}^mx_{k,j}\\end{bmatrix}\\times V\n",
    "$$\n",
    "\n",
    "де $y$ - елементи матриці даних, для яких виконується проекція, $V$ - матриця, сформована з головних компонент. Зверніть увагу, що для нормалізації використовуються середні за тренувальною вибіркою."
   ]
  },
  {
   "cell_type": "code",
   "execution_count": null,
   "metadata": {},
   "outputs": [],
   "source": [
    "with np.load('mnist.npz') as npz:\n",
    "    x, y = [npz[k] for k in ['x_train', 'y_train']]\n",
    "\n",
    "x = x.reshape(-1, 784).astype(np.float32)"
   ]
  },
  {
   "cell_type": "code",
   "execution_count": null,
   "metadata": {},
   "outputs": [],
   "source": [
    "class PCA:\n",
    "    \n",
    "    def __init__(self, n_components):\n",
    "        self.n_components = n_components\n",
    "        \n",
    "    def fit(self, X):\n",
    "        self.mean_ = X.mean(axis=0)\n",
    "        \n",
    "        # TODO\n",
    "        \n",
    "        self.components_ = ...\n",
    "\n",
    "        return self\n",
    "        \n",
    "    def transform(self, X):\n",
    "        # TODO\n",
    "        return"
   ]
  },
  {
   "cell_type": "code",
   "execution_count": null,
   "metadata": {},
   "outputs": [],
   "source": [
    "pca = PCA(n_components=2).fit(x)\n",
    "x_proj = pca.transform(x)"
   ]
  },
  {
   "cell_type": "code",
   "execution_count": null,
   "metadata": {},
   "outputs": [],
   "source": [
    "plt.figure(figsize=(10, 8))\n",
    "plt.scatter(*x_proj.T, c=y, s=2)\n",
    "plt.colorbar()"
   ]
  }
 ],
 "metadata": {
  "kernelspec": {
   "display_name": "Python 3",
   "language": "python",
   "name": "python3"
  },
  "language_info": {
   "codemirror_mode": {
    "name": "ipython",
    "version": 3
   },
   "file_extension": ".py",
   "mimetype": "text/x-python",
   "name": "python",
   "nbconvert_exporter": "python",
   "pygments_lexer": "ipython3",
   "version": "3.7.8"
  }
 },
 "nbformat": 4,
 "nbformat_minor": 4
}
