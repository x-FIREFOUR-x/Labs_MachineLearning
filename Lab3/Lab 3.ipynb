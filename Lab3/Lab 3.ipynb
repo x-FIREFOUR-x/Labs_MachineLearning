{
 "cells": [
  {
   "cell_type": "markdown",
   "metadata": {},
   "source": [
    "## Лабораторна робота 3 - Логістична регресія."
   ]
  },
  {
   "cell_type": "markdown",
   "metadata": {},
   "source": [
    "У цій роботі Ви побудуєте логістичну регресію для класифікації зображень рукописних символів за датасетом MNIST."
   ]
  },
  {
   "cell_type": "code",
   "execution_count": 1,
   "metadata": {},
   "outputs": [],
   "source": [
    "import numpy as np\n",
    "import matplotlib.pyplot as plt\n",
    "import pandas as pd"
   ]
  },
  {
   "cell_type": "markdown",
   "metadata": {},
   "source": [
    "У файлі **mnist.npz** міститься датасет MNIST. Завантажимо його та візуалізуємо."
   ]
  },
  {
   "cell_type": "code",
   "execution_count": 2,
   "metadata": {},
   "outputs": [
    {
     "name": "stdout",
     "output_type": "stream",
     "text": [
      "x_train shape: (60000, 28, 28)\n",
      "x_test shape: (10000, 28, 28)\n"
     ]
    },
    {
     "data": {
      "image/png": "[encoded data removed]",
      "text/plain": [
       "<Figure size 1440x288 with 5 Axes>"
      ]
     },
     "metadata": {
      "needs_background": "light"
     },
     "output_type": "display_data"
    }
   ],
   "source": [
    "with np.load('mnist.npz') as npz:\n",
    "    x_train, y_train, x_test, y_test = [npz[k] for k in ['x_train', 'y_train', 'x_test', 'y_test']]\n",
    "\n",
    "fig, ax = plt.subplots(figsize=(20, 4),  ncols=5)\n",
    "for a in ax:\n",
    "    i = np.random.randint(x_train.shape[0])\n",
    "    a.matshow(x_train[i], cmap='gray')\n",
    "    a.set_title(f'Label: {y_train[i]}')\n",
    "    a.axis('off')\n",
    "    \n",
    "print(f'x_train shape: {x_train.shape}')\n",
    "print(f'x_test shape: {x_test.shape}')"
   ]
  },
  {
   "cell_type": "markdown",
   "metadata": {},
   "source": [
    "Як можна помітити, дані в датасеті MNIST подано у вигляді **тензора** рангу 3 (тензор рангу 1 це вектор, 2 - матриця), або, по-простому, у вигляді тривимірної таблиці. Ми поки що не знаємо алгоритмів, які здатні приймати на вхід такі дані, тому перетворимо весь наш датасет так, щоб кожна картинка була представлена у вигляді вектора довжини $28\\cdot28=784$:"
   ]
  },
  {
   "cell_type": "code",
   "execution_count": 3,
   "metadata": {},
   "outputs": [
    {
     "name": "stdout",
     "output_type": "stream",
     "text": [
      "x_train shape after reshape: (60000, 784)\n",
      "x_test shape after reshape: (10000, 784)\n"
     ]
    }
   ],
   "source": [
    "x_train = x_train.reshape(-1, 28 * 28)\n",
    "x_test = x_test.reshape(-1, 28 * 28)\n",
    "\n",
    "print(f'x_train shape after reshape: {x_train.shape}')\n",
    "print(f'x_test shape after reshape: {x_test.shape}')"
   ]
  },
  {
   "cell_type": "markdown",
   "metadata": {},
   "source": [
    "Таким чином ми отримали датасет, у якому 784 ознаки. Кожна ознака - інтенсивність певного пікселя картинки.\n",
    "\n",
    "Для більш ефективного зберігання, інтенсивності пікселів представлені цілочисельним типом uint8, який, на жаль, не підходить для виконання логістичної регресії (оскільки він цілочисельний). Перетворюємо дані в float32."
   ]
  },
  {
   "cell_type": "code",
   "execution_count": 4,
   "metadata": {},
   "outputs": [],
   "source": [
    "x_train = x_train.astype(np.float32)\n",
    "x_test = x_test.astype(np.float32)"
   ]
  },
  {
   "cell_type": "markdown",
   "metadata": {},
   "source": [
    "Реалізуйте методи з позначкою `#TODO` класу LogisticRegression:\n",
    "\n",
    "Метод `preprocess` повинен додавати колонку з одиниць у матрицю $X$. Опціонально - додайте поліноміальні або будь-які інші нелінійні ознаки.\n",
    "\n",
    "Метод `onehot` повинен виконувати onehot-перетворення:\n",
    "$$\n",
    " \\begin{array}{l}\n",
    "onehot:\\ \\mathbb{R}\\rightarrow \\mathbb{R}^{c}\\\\\n",
    "\\overline{onehot(y_{i} )}_{j} =\\begin{cases}\n",
    "1, & j=y_{i}\\\\\n",
    "0, & j\\neq y_{i}\n",
    "\\end{cases}\n",
    "\\end{array}\n",
    "$$\n",
    "де $c$ - кількість класів.\n",
    "\n",
    "Метод `h` - гіпотеза:\n",
    "$$\n",
    "\\begin{array}{l}\n",
    "h( X) =\\sigma ( X\\theta )\\\\\n",
    "\\sigma ( x) =\\frac{1}{1+e^{-x}}\n",
    "\\end{array}\n",
    "$$\n",
    "Метод `J` повинен обчислювати оціночну функцію логістичної регресії:\n",
    "$$\n",
    "J( \\theta ) =\\frac{1}{m}\\sum ^{m}_{i=1}\\sum ^{c}_{j=1}( -y_{i,j} \\cdot \\log( h( x_{i})_j) \\ -\\ ( 1\\ -\\ y_{i,j}) \\cdot \\log( 1\\ -\\ h( x_{i})_j) +\\alpha _{1}\\sum ^{N}_{i=1}\\sum ^{c}_{j=1} |\\hat{\\theta }_{i,j} |+\\alpha _{2}\\sum ^{N}_{i=1}\\sum ^{c}_{j=1}\\hat{\\theta }^{2}_{i,j}\n",
    "$$\n",
    "Метод `grad` має обчислювати градієнт $\\frac{\\partial J}{\\partial \\theta }$:\n",
    "$$\n",
    "{\\displaystyle \\frac{\\partial J}{\\partial \\theta }} =-{\\displaystyle \\frac{1}{m}} X^{T} (Y-h(X) )+\\begin{bmatrix}\n",
    "0 &  &  & \\\\\n",
    " & 1 &  & \\\\\n",
    " &  & \\ddots  & \\\\\n",
    " &  &  & 1\n",
    "\\end{bmatrix} \\times ( \\alpha _{1} sign(\\theta )+2\\alpha _{2} \\theta )\n",
    "$$\n",
    "Метод `moments` має повертати вектор-рядки $\\mu,\\sigma$ для середнього і стандартного відхилення кожної колонки. Пам'ятайте, що колонку з одиницями не потрібно нормалізувати, тож відповідні середнє і стандартне відхилення для неї вкажіть рівними 0 і 1 відповідно. Можна використовувати функції \n",
    "[np.mean](https://numpy.org/doc/stable/reference/generated/numpy.mean.html) і [np.std](https://numpy.org/doc/stable/reference/generated/numpy.std.html).\n",
    "\n",
    "Метод `normalize` має виконувати нормалізацію $X$ на основі статистик $\\mu,\\sigma$, що повернув метод **moments**. Для того щоб уникнути ділення на 0, можете до $\\sigma$ додати маленьку величину, наприклад $10^{-8}$.\n",
    "\n",
    "Метод `get_batch` має повертати матриці $X_b, Y_b$ з довільно обраних $b$ елементів вибірки ($b$ у коді - `self.batch_size`).\n",
    "\n",
    "Метод `fit` виконує оптимізацію $J(\\theta)$. Для кращої збіжності реалізуйте алгоритм оптимізації **Momentum**:\n",
    "$$\n",
    "\\begin{array}{l}\n",
    "v_t = \\gamma v_{t-1} + \\alpha\\nabla J(\\theta_{t-1})\\\\\n",
    "\\theta_t = \\theta_{t-1} - v_t\n",
    "\\end{array}\n",
    "$$\n",
    "де $\\gamma$ встановіть рівним $0.9$ (можете поекспериментувати з іншими величинами), $v_1=[0]_{N,c}$."
   ]
  },
  {
   "cell_type": "code",
   "execution_count": null,
   "metadata": {},
   "outputs": [],
   "source": [
    "class LogisticRegression:\n",
    "    def __init__(\n",
    "        self,\n",
    "        alpha1,\n",
    "        alpha2,\n",
    "        learning_rate,\n",
    "        batch_size,\n",
    "        train_steps\n",
    "    ):\n",
    "        self.alpha1 = alpha1\n",
    "        self.alpha2 = alpha2\n",
    "        self.learning_rate = learning_rate\n",
    "        self.batch_size = batch_size\n",
    "        self.train_steps = train_steps\n",
    "    \n",
    "    def preprocess(self, x):\n",
    "        # TODO\n",
    "        return\n",
    "    \n",
    "    def onehot(self, y):\n",
    "        # TODO\n",
    "        return\n",
    "    \n",
    "    def normalize(self, x):\n",
    "        # TODO\n",
    "        return\n",
    "\n",
    "    def moments(self, x):\n",
    "        # TODO\n",
    "        return\n",
    "    \n",
    "    def J(self, x, y, theta):\n",
    "        # TODO\n",
    "        return\n",
    "    \n",
    "    def h(self, x, theta):\n",
    "        # TODO\n",
    "        return\n",
    "    \n",
    "    def grad(self, x, y, theta):\n",
    "        # TODO\n",
    "        return\n",
    "    \n",
    "    def get_batch(self, x, y):\n",
    "        # TODO\n",
    "        return\n",
    "    \n",
    "    def fit(self, x, y):\n",
    "        x = self.preprocess(x)\n",
    "        y = self.onehot(y)\n",
    "\n",
    "        (m, n), (_, c) = x.shape, y.shape\n",
    "        \n",
    "        self.mu, self.sigma = self.moments(x)\n",
    "        x = self.normalize(x)\n",
    "        \n",
    "        theta = np.zeros(shape=(n, c))\n",
    "        v_1 = #TODO\n",
    "        v_t = v_1\n",
    "        for step in range(self.train_steps):\n",
    "            x_batch, y_batch = self.get_batch(x, y)\n",
    "            theta_grad = self.grad(x_batch, y_batch, theta)\n",
    "\n",
    "            # TODO Update v_t and theta\n",
    "            v_t = #TODO\n",
    "            theta = #TODO\n",
    "\n",
    "        self.theta = theta\n",
    "        \n",
    "        return self\n",
    "\n",
    "    def predict(self, x):\n",
    "        x = self.preprocess(x)\n",
    "        x = self.normalize(x)\n",
    "        return self.h(x, self.theta).argmax(axis=1)\n",
    "    \n",
    "    def score(self, x, y):\n",
    "        y_pred = self.predict(x)\n",
    "        return (y == y_pred).mean()"
   ]
  },
  {
   "cell_type": "code",
   "execution_count": null,
   "metadata": {},
   "outputs": [],
   "source": [
    "reg = LogisticRegression(0, 0, 1e-3, 32, 1000).fit(x_train, y_train)\n",
    "print(f'Test accuracy: {reg.score(x_test, y_test) * 100}%')"
   ]
  },
  {
   "cell_type": "markdown",
   "metadata": {},
   "source": [
    "Отримана точність на тестовій вибірці має приблизно дорівнювати $88\\%\\ (!)$."
   ]
  },
  {
   "cell_type": "markdown",
   "metadata": {},
   "source": [
    "Виконайте оптимізацію параметрів $\\alpha_1,\\alpha_2$ за аналогією з лабораторною №2."
   ]
  },
  {
   "cell_type": "markdown",
   "metadata": {},
   "source": [
    "Візуалізуйте матрицю помилок для кращої моделі:"
   ]
  },
  {
   "cell_type": "code",
   "execution_count": null,
   "metadata": {},
   "outputs": [],
   "source": [
    "# pip install scikit-learn\n",
    "from sklearn.metrics import confusion_matrix\n",
    "\n",
    "reg = LogisticRegression(0, 0, 1e-3, 32, 1000).fit(x_train, y_train)\n",
    "y_test_pred = reg.predict(x_test)\n",
    "\n",
    "cm = confusion_matrix(y_test, y_test_pred)\n",
    "\n",
    "plt.figure(figsize=(10, 10))\n",
    "plt.imshow(cm)\n",
    "plt.xlabel('Predicted class')\n",
    "plt.ylabel('True class')\n",
    "plt.xticks(range(10))\n",
    "plt.yticks(range(10))\n",
    "plt.show()\n",
    "\n",
    "print(f'Final accuracy {reg.score(x_test, y_test) * 100}%')"
   ]
  }
 ],
 "metadata": {
  "kernelspec": {
   "display_name": "Python 3",
   "language": "python",
   "name": "python3"
  },
  "language_info": {
   "codemirror_mode": {
    "name": "ipython",
    "version": 3
   },
   "file_extension": ".py",
   "mimetype": "text/x-python",
   "name": "python",
   "nbconvert_exporter": "python",
   "pygments_lexer": "ipython3",
   "version": "3.7.8"
  }
 },
 "nbformat": 4,
 "nbformat_minor": 4
}
