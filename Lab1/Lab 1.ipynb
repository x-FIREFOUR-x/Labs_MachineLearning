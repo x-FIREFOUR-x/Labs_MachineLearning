{
 "cells": [
  {
   "cell_type": "markdown",
   "metadata": {},
   "source": [
    "## Лабораторна робота 1 - Знайомство з векторними та матричними операціями на прикладі бібліотеки [NumPy](https://numpy.org/doc/stable/)"
   ]
  },
  {
   "cell_type": "code",
   "execution_count": null,
   "metadata": {},
   "outputs": [],
   "source": [
    "import numpy as np\n",
    "import matplotlib.pyplot as plt"
   ]
  },
  {
   "cell_type": "markdown",
   "metadata": {},
   "source": [
    "### Завдання 1\n",
    "\n",
    "У машинному навчанні часто використовується логістична функція:\n",
    "$$\\sigma(x)=\\frac{1}{1+e^{-x}}$$\n",
    "\n",
    "Візуалізувати цю функцію на проміжку $[-5, 5]$"
   ]
  },
  {
   "cell_type": "code",
   "execution_count": null,
   "metadata": {},
   "outputs": [],
   "source": [
    "def sigmoid(x):\n",
    "    return # TODO\n",
    "\n",
    "x = np.linspace(-5, 5, 100)\n",
    "y = sigmoid(x)\n",
    "\n",
    "plt.plot(x, y)\n",
    "plt.ylim(0, 1)\n",
    "plt.show()"
   ]
  },
  {
   "cell_type": "markdown",
   "metadata": {},
   "source": [
    "### Завдання 2\n",
    "\n",
    "1. [Створіть](https://numpy.org/doc/stable/reference/generated/numpy.array.html) вектор $v=\\overline{(0,1)}$;\n",
    "2. Створіть матрицю \n",
    "$M=\\begin{bmatrix}\n",
    "\\cos \\alpha & -\\sin \\alpha \\\\\n",
    "\\sin \\alpha & \\cos \\alpha \n",
    "\\end{bmatrix}$ , де $\\alpha \\in R$;\n",
    "3. Обчисліть $v_i, i \\in \\{1..100\\}$, де\n",
    "$v_1=v,\n",
    "v_{n+1}=v_n\\times M \\cdot 0.99$;"
   ]
  },
  {
   "cell_type": "code",
   "execution_count": null,
   "metadata": {},
   "outputs": [],
   "source": [
    "import numpy as np\n",
    "import matplotlib.pyplot as plt\n",
    "\n",
    "v = # TODO\n",
    "M = # TODO\n",
    "vs = [v]\n",
    "for i in range(100):\n",
    "    v = # TODO\n",
    "    vs.append(v)\n",
    "    \n",
    "vs = np.array(vs)\n",
    "\n",
    "plt.figure(figsize=(6, 6))\n",
    "plt.xlim(-1, 1)\n",
    "plt.ylim(-1, 1)\n",
    "plt.plot(*vs.T)\n",
    "plt.show()"
   ]
  },
  {
   "cell_type": "markdown",
   "metadata": {},
   "source": [
    "### Завдання 3\n",
    "\n",
    "Одним з алгоритмів навчання з учителем є так звана поліноміальна регресія. Для цього методу, потрібно маючи матрицю\n",
    "$$X=\\begin{bmatrix}\n",
    "x_{1}\\\\\n",
    "x_{2}\\\\\n",
    "\\vdots \\\\\n",
    "x_{m}\n",
    "\\end{bmatrix}$$\n",
    "отримати матрицю ступенів:\n",
    "$$X_p=\\begin{bmatrix}\n",
    "x^{0}_{1} & x^{1}_{1} & \\dotsc & x^{p}_{1}\\\\\\\n",
    "x^{0}_{2} & x^{1}_{2} & \\dotsc & x^{p}_{2}\\\\\\\n",
    "\\vdots & \\vdots & & \\vdots \\\\\n",
    "x^{0}_{m} & x^{1}_{m} & \\dotsc & x^{p}_{m}\n",
    "\\end{bmatrix}$$\n",
    "\n",
    "Маючи матрицю $X$, задану нижче, обчисліть матрицю $X_p$, для $p=5$.\n",
    "Розв'язати задачу як з використанням циклу за степенями, так і без нього.\n",
    "\n",
    "Корисні функції: [stack](https://numpy.org/doc/stable/reference/generated/numpy.stack.html), [concatenate](https://numpy.org/doc/stable/reference/generated/numpy.concatenate.html)."
   ]
  },
  {
   "cell_type": "code",
   "execution_count": null,
   "metadata": {},
   "outputs": [],
   "source": [
    "X = np.linspace(-2.2, 2.2, 1000)[:, np.newaxis]\n",
    "print(f'Shape of X: {X.shape}')\n",
    "\n",
    "X_p = # TODO\n",
    "print(f'Shape of X_p {X_p.shape}')\n",
    "assert X_p.shape == (1000, 6)\n",
    "\n",
    "plt.plot(\n",
    "    X[..., 0],\n",
    "    X_p @ np.array([[0, 4, 0, -5, 0, 1]]).T\n",
    ")\n",
    "plt.show()"
   ]
  },
  {
   "cell_type": "markdown",
   "metadata": {},
   "source": [
    "### Завдання 4 (*)\n",
    "\n",
    "Намалюйте графік функції Растригіна:\n",
    "$$f( x,y) =20+\\left( x^{2} -10\\cos( 2\\pi x)\\right) +\\left( y^{2} -10\\cos( 2\\pi y)\\right) ,\\ x\\in [ -5,\\ 5] ,\\ y\\in [ -5,\\ 5]$$\n",
    "\n",
    "Використовувати цикли **заборонено**.\n",
    "\n",
    "Корисні функції: \n",
    "[linspace](https://numpy.org/doc/stable/reference/generated/numpy.linspace.html),\n",
    "[meshgrid](https://numpy.org/doc/stable/reference/generated/numpy.meshgrid.html),\n",
    "[reshape](https://numpy.org/doc/stable/reference/generated/numpy.reshape.html).\n",
    "\n",
    "(Для красивої візуалізації візьміть по 500 кроків для $x$ і $y$)."
   ]
  },
  {
   "cell_type": "code",
   "execution_count": null,
   "metadata": {},
   "outputs": [],
   "source": [
    "def rastrigin(x, y):\n",
    "    return # TODO\n",
    "\n",
    "x = # TODO\n",
    "y = # TODO\n",
    "\n",
    "plt.figure(figsize=(10, 10))\n",
    "plt.contourf(rastrigin(x, y), levels=10)\n",
    "plt.show()"
   ]
  }
 ],
 "metadata": {
  "kernelspec": {
   "display_name": "Python 3 (ipykernel)",
   "language": "python",
   "name": "python3"
  },
  "language_info": {
   "codemirror_mode": {
    "name": "ipython",
    "version": 3
   },
   "file_extension": ".py",
   "mimetype": "text/x-python",
   "name": "python",
   "nbconvert_exporter": "python",
   "pygments_lexer": "ipython3",
   "version": "3.11.5"
  }
 },
 "nbformat": 4,
 "nbformat_minor": 4
}
